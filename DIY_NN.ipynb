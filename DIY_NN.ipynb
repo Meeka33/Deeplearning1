{
 "cells": [
  {
   "cell_type": "code",
   "execution_count": 1,
   "metadata": {},
   "outputs": [],
   "source": [
    "import numpy as np\n",
    "import scipy.special"
   ]
  },
  {
   "cell_type": "code",
   "execution_count": 65,
   "metadata": {},
   "outputs": [],
   "source": [
    "class neuralNetwork:\n",
    "    def __init__(self, inputnodes, hiddennodes, outputnodes, learningrate):\n",
    "        #set number of nodes for input, hidden, output layers:\n",
    "        self.inodes=inputnodes\n",
    "        self.hnodes=hiddennodes\n",
    "        self.onodes=outputnodes\n",
    "        \n",
    "        #Link weight matrices, wih and who; Initialize random weights to start\n",
    "        self.wih=np.random.normal(0.0,pow(self.inodes,-0.5),(self.hnodes,self.inodes))\n",
    "        self.who=np.random.normal(0.0,pow(self.hnodes,-0.5),(self.onodes,self.hnodes))\n",
    "        \n",
    "        self.lr=learningrate\n",
    "        self.activation_function=lambda x: scipy.special.expit(x)\n",
    "        #Activation function: Sigmoid\n",
    "        \n",
    "        pass\n",
    "    \n",
    "    def train(self, inputs_list, targets_list):\n",
    "        #convert inputs list to 2d array:\n",
    "        inputs=np.array(inputs_list, ndmin=2).T\n",
    "        targets=np.array(targets_list, ndmin=2).T\n",
    "        \n",
    "        #calculate signals into hidden layer:\n",
    "        hidden_inputs=np.dot(self.wih, inputs)\n",
    "        #calculate signals emerging from hidden layer:\n",
    "        hidden_outputs=self.activation_function(hidden_inputs)\n",
    "        \n",
    "        #calculate signals into final output layer:\n",
    "        final_inputs=np.dot(self.who, hidden_outputs)\n",
    "        #calculate the signals emerging from final output layer:\n",
    "        final_outputs=self.activation_function(final_inputs)\n",
    "        \n",
    "        #error Function (target-actual):\n",
    "        output_errors=targets-final_outputs\n",
    "        #hidden layer error is output_errors, split by weights, recombined at hidden nodes:\n",
    "        hidden_errors=np.dot(self.who.T, output_errors)\n",
    "        \n",
    "        #update weights for links between hidden and output layers:\n",
    "        self.who+=self.lr*np.dot((output_errors*final_outputs*(1.0-final_outputs)), np.transpose(hidden_outputs))\n",
    "        #update weights for links between input and hidden layers:\n",
    "        self.wih+=self.lr*np.dot((hidden_errors*hidden_outputs*(1.0-hidden_outputs)), np.transpose(inputs))\n",
    "        \n",
    "        pass\n",
    "    \n",
    "    def query(self, inputs_list):\n",
    "        #convert inputs list to 2d array:\n",
    "        inputs=np.array(inputs_list,ndmin=2).T\n",
    "        \n",
    "        #calculate signals into hidden layer:\n",
    "        hidden_inputs=np.dot(self.wih,inputs)\n",
    "        #calculate signals emerging from hidden layer:\n",
    "        hidden_outputs=self.activation_function(hidden_inputs)\n",
    "        \n",
    "        #calculate signals into final output layer:\n",
    "        final_inputs=np.dot(self.who, hidden_outputs)\n",
    "        #calculate signals emerging from final output layer:\n",
    "        final_outputs=self.activation_function(final_inputs)\n",
    "        \n",
    "        return final_outputs"
   ]
  },
  {
   "cell_type": "code",
   "execution_count": 21,
   "metadata": {},
   "outputs": [],
   "source": [
    "input_nodes=3\n",
    "hidden_nodes=3\n",
    "output_nodes=3\n",
    "learning_rate=0.3\n",
    "\n",
    "n=neuralNetwork(input_nodes,hidden_nodes,output_nodes,learning_rate)"
   ]
  },
  {
   "cell_type": "code",
   "execution_count": 23,
   "metadata": {},
   "outputs": [
    {
     "data": {
      "text/plain": [
       "array([[0.64769275],\n",
       "       [0.35721309],\n",
       "       [0.64822244]])"
      ]
     },
     "execution_count": 23,
     "metadata": {},
     "output_type": "execute_result"
    }
   ],
   "source": [
    "n.query([1.0,0.5,-1.5])"
   ]
  },
  {
   "cell_type": "code",
   "execution_count": 26,
   "metadata": {},
   "outputs": [],
   "source": [
    "import requests\n",
    "\n",
    "url1='http://www.pjreddie.com/media/files/mnist_train.csv'\n",
    "url2='http://www.pjreddie.com/media/files/mnist_test.csv'\n",
    "\n",
    "response = requests.get(url2)\n",
    "test=response.content\n",
    "csvfile=open('test.csv','wb')\n",
    "csvfile.write(test)\n",
    "csvfile.close()"
   ]
  },
  {
   "cell_type": "code",
   "execution_count": 66,
   "metadata": {},
   "outputs": [],
   "source": [
    "data_file=open(\"test.csv\", \"r\")\n",
    "data_list=data_file.readlines()\n",
    "data_file.close()"
   ]
  },
  {
   "cell_type": "code",
   "execution_count": 67,
   "metadata": {},
   "outputs": [],
   "source": [
    "test=data_list[:10]\n",
    "train=data_list[10:110]"
   ]
  },
  {
   "cell_type": "code",
   "execution_count": 68,
   "metadata": {},
   "outputs": [],
   "source": [
    "all_values=train[0].split(',')"
   ]
  },
  {
   "cell_type": "code",
   "execution_count": 69,
   "metadata": {},
   "outputs": [
    {
     "data": {
      "text/plain": [
       "<matplotlib.image.AxesImage at 0x28cb81a3850>"
      ]
     },
     "execution_count": 69,
     "metadata": {},
     "output_type": "execute_result"
    },
    {
     "data": {
      "image/png": "[encoded data removed]",
      "text/plain": [
       "<Figure size 432x288 with 1 Axes>"
      ]
     },
     "metadata": {
      "needs_background": "light"
     },
     "output_type": "display_data"
    }
   ],
   "source": [
    "import matplotlib.pyplot\n",
    "\n",
    "image_array=np.asfarray(all_values[1:]).reshape((28,28))\n",
    "matplotlib.pyplot.imshow(image_array, cmap='Greys', interpolation='None')"
   ]
  },
  {
   "cell_type": "code",
   "execution_count": 70,
   "metadata": {},
   "outputs": [],
   "source": [
    "scaled_input=(np.asfarray(all_values[1:])/255.0*0.99) + 0.01\n",
    "#print(scaled_input)"
   ]
  },
  {
   "cell_type": "code",
   "execution_count": 71,
   "metadata": {},
   "outputs": [],
   "source": [
    "onodes=10\n",
    "targets=np.zeros(onodes)+0.01\n",
    "targets[int(all_values[0])]=0.99"
   ]
  },
  {
   "cell_type": "code",
   "execution_count": 72,
   "metadata": {},
   "outputs": [
    {
     "data": {
      "text/plain": [
       "array([0.99, 0.01, 0.01, 0.01, 0.01, 0.01, 0.01, 0.01, 0.01, 0.01])"
      ]
     },
     "execution_count": 72,
     "metadata": {},
     "output_type": "execute_result"
    }
   ],
   "source": [
    "targets"
   ]
  },
  {
   "cell_type": "markdown",
   "metadata": {},
   "source": [
    "# Fresh train on dataset:"
   ]
  },
  {
   "cell_type": "code",
   "execution_count": 75,
   "metadata": {},
   "outputs": [],
   "source": [
    "import requests\n",
    "\n",
    "# url2='http://www.pjreddie.com/media/files/mnist_test.csv'\n",
    "# response = requests.get(url2)\n",
    "# test=response.content\n",
    "# csvfile=open('test.csv','wb')\n",
    "# csvfile.write(test)\n",
    "# csvfile.close()\n",
    "\n",
    "data_file=open(\"test.csv\", \"r\")\n",
    "data_list=data_file.readlines()\n",
    "data_file.close()\n",
    "\n",
    "test=data_list[:10]\n",
    "training=data_list[10:110]"
   ]
  },
  {
   "cell_type": "code",
   "execution_count": 76,
   "metadata": {},
   "outputs": [],
   "source": [
    "input_nodes=784\n",
    "hidden_nodes=100\n",
    "output_nodes=10\n",
    "learning_rate=0.3\n",
    "\n",
    "mnist=neuralNetwork(input_nodes,hidden_nodes,output_nodes,learning_rate)"
   ]
  },
  {
   "cell_type": "code",
   "execution_count": 77,
   "metadata": {},
   "outputs": [],
   "source": [
    "#Train NN:\n",
    "\n",
    "for record in training:\n",
    "    all_values=record.split(',')\n",
    "    inputs=(np.asfarray(all_values[1:])/255.0*0.99)+0.01\n",
    "    targets=np.zeros(output_nodes)+0.01\n",
    "    targets[int(all_values[0])] = 0.99\n",
    "    mnist.train(inputs, targets)\n",
    "    pass\n",
    "    "
   ]
  },
  {
   "cell_type": "code",
   "execution_count": 78,
   "metadata": {},
   "outputs": [
    {
     "name": "stdout",
     "output_type": "stream",
     "text": [
      "7\n"
     ]
    }
   ],
   "source": [
    "#confirm against test set (10 records):\n",
    "all_values=test[0].split(',')\n",
    "print(all_values[0])"
   ]
  },
  {
   "cell_type": "code",
   "execution_count": 79,
   "metadata": {},
   "outputs": [
    {
     "data": {
      "text/plain": [
       "<matplotlib.image.AxesImage at 0x28cb81f2f10>"
      ]
     },
     "execution_count": 79,
     "metadata": {},
     "output_type": "execute_result"
    },
    {
     "data": {
      "image/png": "[encoded data removed]",
      "text/plain": [
       "<Figure size 432x288 with 1 Axes>"
      ]
     },
     "metadata": {
      "needs_background": "light"
     },
     "output_type": "display_data"
    }
   ],
   "source": [
    "image_array=np.asfarray(all_values[1:]).reshape((28,28))\n",
    "matplotlib.pyplot.imshow(image_array, cmap='Greys', interpolation='None')"
   ]
  },
  {
   "cell_type": "code",
   "execution_count": 80,
   "metadata": {},
   "outputs": [
    {
     "data": {
      "text/plain": [
       "array([[0.03812664],\n",
       "       [0.10666234],\n",
       "       [0.07906593],\n",
       "       [0.03437299],\n",
       "       [0.07572897],\n",
       "       [0.05093392],\n",
       "       [0.02767514],\n",
       "       [0.48236019],\n",
       "       [0.03270395],\n",
       "       [0.2887899 ]])"
      ]
     },
     "execution_count": 80,
     "metadata": {},
     "output_type": "execute_result"
    }
   ],
   "source": [
    "mnist.query((np.asfarray(all_values[1:])/255.0*0.99)+0.01)"
   ]
  },
  {
   "cell_type": "code",
   "execution_count": 97,
   "metadata": {},
   "outputs": [
    {
     "name": "stdout",
     "output_type": "stream",
     "text": [
      "9\n"
     ]
    }
   ],
   "source": [
    "all_values=test[9].split(',')\n",
    "print(all_values[0])\n"
   ]
  },
  {
   "cell_type": "code",
   "execution_count": 98,
   "metadata": {},
   "outputs": [
    {
     "data": {
      "text/plain": [
       "array([[0.04471062],\n",
       "       [0.10000693],\n",
       "       [0.05330034],\n",
       "       [0.01650098],\n",
       "       [0.18559029],\n",
       "       [0.05266224],\n",
       "       [0.04227358],\n",
       "       [0.22661699],\n",
       "       [0.03679442],\n",
       "       [0.4838947 ]])"
      ]
     },
     "execution_count": 98,
     "metadata": {},
     "output_type": "execute_result"
    }
   ],
   "source": [
    "mnist.query((np.asfarray(all_values[1:])/255.0*0.99)+0.01)"
   ]
  },
  {
   "cell_type": "code",
   "execution_count": 103,
   "metadata": {},
   "outputs": [
    {
     "name": "stdout",
     "output_type": "stream",
     "text": [
      "7 correct label\n",
      "7 network answer\n",
      "2 correct label\n",
      "1 network answer\n",
      "1 correct label\n",
      "1 network answer\n",
      "0 correct label\n",
      "0 network answer\n",
      "4 correct label\n",
      "4 network answer\n",
      "1 correct label\n",
      "1 network answer\n",
      "4 correct label\n",
      "9 network answer\n",
      "9 correct label\n",
      "9 network answer\n",
      "5 correct label\n",
      "4 network answer\n",
      "9 correct label\n",
      "9 network answer\n"
     ]
    }
   ],
   "source": [
    "scorecard=[]\n",
    "for record in test:\n",
    "    all_values=record.split(',')\n",
    "    correct_label=int(all_values[0])\n",
    "    print(correct_label, \"correct label\")\n",
    "    inputs=(np.asfarray(all_values[1:])/255.0*0.99)+0.01\n",
    "    outputs=mnist.query(inputs)\n",
    "    label=np.argmax(outputs)\n",
    "    print(label, \"network answer\")\n",
    "    if (label==correct_label):\n",
    "        scorecard.append(1)\n",
    "    else:\n",
    "        scorecard.append(0)\n",
    "    pass\n",
    "    "
   ]
  },
  {
   "cell_type": "code",
   "execution_count": 102,
   "metadata": {},
   "outputs": [
    {
     "name": "stdout",
     "output_type": "stream",
     "text": [
      "[1, 0, 1, 1, 1, 1, 0, 1, 0, 1]\n"
     ]
    }
   ],
   "source": [
    "print(scorecard)"
   ]
  },
  {
   "cell_type": "markdown",
   "metadata": {},
   "source": [
    "# Add Epochs"
   ]
  },
  {
   "cell_type": "code",
   "execution_count": 107,
   "metadata": {},
   "outputs": [],
   "source": [
    "len(data_list)\n",
    "\n",
    "training=data_list[:8000]\n",
    "test=data_list[8000:]"
   ]
  },
  {
   "cell_type": "code",
   "execution_count": 127,
   "metadata": {},
   "outputs": [],
   "source": [
    "input_nodes=784\n",
    "hidden_nodes=100\n",
    "output_nodes=10\n",
    "learning_rate=0.3\n",
    "\n",
    "mnist2=neuralNetwork(input_nodes,hidden_nodes,output_nodes,learning_rate)"
   ]
  },
  {
   "cell_type": "code",
   "execution_count": 128,
   "metadata": {},
   "outputs": [],
   "source": [
    "epochs=10\n",
    "for e in range(epochs):\n",
    "    for record in training:\n",
    "        all_values=record.split(',')\n",
    "        inputs=(np.asfarray(all_values[1:])/255.0*0.99)+0.01\n",
    "        targets=np.zeros(output_nodes)+0.01\n",
    "        targets[int(all_values[0])] = 0.99\n",
    "        mnist2.train(inputs, targets)\n",
    "    pass"
   ]
  },
  {
   "cell_type": "code",
   "execution_count": 129,
   "metadata": {},
   "outputs": [
    {
     "name": "stdout",
     "output_type": "stream",
     "text": [
      "performance= 0.959\n"
     ]
    }
   ],
   "source": [
    "scorecard=[]\n",
    "for record in test:\n",
    "    all_values=record.split(',')\n",
    "    correct_label=int(all_values[0])\n",
    "    #print(correct_label, \"correct label\")\n",
    "    inputs=(np.asfarray(all_values[1:])/255.0*0.99)+0.01\n",
    "    outputs=mnist2.query(inputs)\n",
    "    label=np.argmax(outputs)\n",
    "    #print(label, \"network answer\")\n",
    "    if (label==correct_label):\n",
    "        scorecard.append(1)\n",
    "    else:\n",
    "        scorecard.append(0)\n",
    "    pass\n",
    "\n",
    "\n",
    "scorecard_array=np.asarray(scorecard)\n",
    "print(\"performance=\", scorecard_array.sum() / scorecard_array.size)"
   ]
  },
  {
   "cell_type": "markdown",
   "metadata": {},
   "source": [
    "1 performance= 0.925\n",
    "4 performance= 0.955\n",
    "6 performance= 0.959\n",
    "10 performance= 0.959"
   ]
  },
  {
   "cell_type": "code",
   "execution_count": null,
   "metadata": {},
   "outputs": [],
   "source": []
  }
 ],
 "metadata": {
  "kernelspec": {
   "display_name": "Python 3",
   "language": "python",
   "name": "python3"
  },
  "language_info": {
   "codemirror_mode": {
    "name": "ipython",
    "version": 3
   },
   "file_extension": ".py",
   "mimetype": "text/x-python",
   "name": "python",
   "nbconvert_exporter": "python",
   "pygments_lexer": "ipython3",
   "version": "3.8.3"
  }
 },
 "nbformat": 4,
 "nbformat_minor": 4
}
